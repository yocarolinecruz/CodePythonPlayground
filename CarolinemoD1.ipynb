{
  "nbformat": 4,
  "nbformat_minor": 0,
  "metadata": {
    "colab": {
      "provenance": [],
      "toc_visible": true,
      "authorship_tag": "ABX9TyPuGG7vKtszpABIwW8CmICD",
      "include_colab_link": true
    },
    "kernelspec": {
      "name": "python3",
      "display_name": "Python 3"
    },
    "language_info": {
      "name": "python"
    }
  },
  "cells": [
    {
      "cell_type": "markdown",
      "metadata": {
        "id": "view-in-github",
        "colab_type": "text"
      },
      "source": [
        "<a href=\"https://colab.research.google.com/github/yocarolinecruz/CodePythonPlayground/blob/main/CarolinemoD1.ipynb\" target=\"_parent\"><img src=\"https://colab.research.google.com/assets/colab-badge.svg\" alt=\"Open In Colab\"/></a>"
      ]
    },
    {
      "cell_type": "code",
      "execution_count": null,
      "metadata": {
        "colab": {
          "base_uri": "https://localhost:8080/"
        },
        "id": "Czy0dpuYW-rv",
        "outputId": "6af935d1-8c3f-4903-9ddd-53138d36bee2"
      },
      "outputs": [
        {
          "output_type": "stream",
          "name": "stdout",
          "text": [
            "Olá mundo!\n"
          ]
        }
      ],
      "source": [
        "print(\"Olá mundo!\")"
      ]
    },
    {
      "cell_type": "markdown",
      "source": [
        "# Nova seção"
      ],
      "metadata": {
        "id": "GukibLs7Ehl0"
      }
    },
    {
      "cell_type": "markdown",
      "source": [
        "![picture](https://i.pinimg.com/564x/2c/b9/02/2cb9020b96b688a0a013467a02697c36.jpg)"
      ],
      "metadata": {
        "id": "3LynsDJdgjXk"
      }
    },
    {
      "cell_type": "code",
      "source": [],
      "metadata": {
        "id": "I-z5yqGChkQ4"
      },
      "execution_count": null,
      "outputs": []
    },
    {
      "cell_type": "markdown",
      "metadata": {
        "id": "ubiOD7fyNB9t"
      },
      "source": [
        "| Dia   | Valor Total Vendas | Qtd Total Vendas | Ticket Medio |\n",
        "|-------|--------------------|------------------|-|\n",
        "| 19/01 | 961.56                | 3                |320.52|\n",
        "| 20/01 | 337.01             | 2              |119.21|\n",
        "| 23/01 | 295.33             | 5                |59.06\n",
        "|"
      ]
    },
    {
      "cell_type": "code",
      "source": [
        "qtde_vendas_19 = 3\n",
        "ticket_medio_19 = 320.52\n",
        "vlr_total_19 = qtde_vendas_19 * ticket_medio_19\n",
        "print(vlr_total_19)"
      ],
      "metadata": {
        "colab": {
          "base_uri": "https://localhost:8080/"
        },
        "id": "tlA2_7Ygmbxm",
        "outputId": "aee16518-58f8-4a67-e005-d08ed233effd"
      },
      "execution_count": null,
      "outputs": [
        {
          "output_type": "stream",
          "name": "stdout",
          "text": [
            "961.56\n"
          ]
        }
      ]
    },
    {
      "cell_type": "code",
      "source": [
        "vlr_total_20 = 337.01\n",
        "ticket_medio_20 = 119.21\n",
        "qtde_vendas_20 = vlr_total_20 / ticket_medio_20\n",
        "print(int(qtde_vendas_20))"
      ],
      "metadata": {
        "colab": {
          "base_uri": "https://localhost:8080/"
        },
        "id": "4VJL7F8bnqjD",
        "outputId": "d8efd68e-812b-4eab-bd51-23f3ad5e264f"
      },
      "execution_count": null,
      "outputs": [
        {
          "output_type": "stream",
          "name": "stdout",
          "text": [
            "2\n"
          ]
        }
      ]
    },
    {
      "cell_type": "code",
      "source": [
        "vlr_total_23 = 295.33\n",
        "qtde_vendas_23 = 5\n",
        "ticket_medio_23 = vlr_total_23 / qtde_vendas_23\n",
        "print(round(float(ticket_medio_23),2))"
      ],
      "metadata": {
        "colab": {
          "base_uri": "https://localhost:8080/"
        },
        "id": "MK7xL6m8o2gX",
        "outputId": "b2145c42-983f-4130-c64d-49834ccdd504"
      },
      "execution_count": null,
      "outputs": [
        {
          "output_type": "stream",
          "name": "stdout",
          "text": [
            "59.07\n"
          ]
        }
      ]
    },
    {
      "cell_type": "code",
      "source": [
        "print('%.2f'% ticket_medio_23)"
      ],
      "metadata": {
        "colab": {
          "base_uri": "https://localhost:8080/"
        },
        "id": "79X6NwxCcJpQ",
        "outputId": "0f9c5618-aa70-4f72-9358-dc236fac33f9"
      },
      "execution_count": null,
      "outputs": [
        {
          "output_type": "stream",
          "name": "stdout",
          "text": [
            "59.07\n"
          ]
        }
      ]
    },
    {
      "cell_type": "code",
      "source": [
        "cancao = 'Roda mundo, roda gigante, roda moinho, roda pião.'"
      ],
      "metadata": {
        "id": "nRHP_D-MivFX"
      },
      "execution_count": null,
      "outputs": []
    },
    {
      "cell_type": "code",
      "source": [
        "# substituição: string.replace(antigo, novo)\n",
        "print(cancao.replace(\"mundo\",\"world\"))"
      ],
      "metadata": {
        "colab": {
          "base_uri": "https://localhost:8080/"
        },
        "id": "d3mswHhUoRNe",
        "outputId": "06e35716-5df0-445d-b5c3-acc90bb36fd0"
      },
      "execution_count": null,
      "outputs": [
        {
          "output_type": "stream",
          "name": "stdout",
          "text": [
            "Roda world, roda gigante, roda moinho, roda pião.\n"
          ]
        }
      ]
    },
    {
      "cell_type": "code",
      "source": [
        "# centralizar: string.center(comprimento, )\n",
        "centralizar = cancao.center(100)\n",
        "print(centralizar)"
      ],
      "metadata": {
        "colab": {
          "base_uri": "https://localhost:8080/"
        },
        "id": "d1EoNG7FpM59",
        "outputId": "5f4fb3a5-2cbd-4970-a3a7-0485c4e6cb09"
      },
      "execution_count": null,
      "outputs": [
        {
          "output_type": "stream",
          "name": "stdout",
          "text": [
            "                         Roda mundo, roda gigante, roda moinho, roda pião.                          \n"
          ]
        }
      ]
    },
    {
      "cell_type": "code",
      "source": [
        "# maiusculo: string.upper()\n",
        "print(cancao.upper())"
      ],
      "metadata": {
        "colab": {
          "base_uri": "https://localhost:8080/"
        },
        "id": "27dwxniGr2ij",
        "outputId": "e32ac896-d1bf-4419-e48d-242d06755603"
      },
      "execution_count": null,
      "outputs": [
        {
          "output_type": "stream",
          "name": "stdout",
          "text": [
            "RODA MUNDO, RODA GIGANTE, RODA MOINHO, RODA PIÃO.\n"
          ]
        }
      ]
    },
    {
      "cell_type": "code",
      "source": [
        "# valor da taxa selic na variável selic e o valor do ano na variável ano\n",
        "\n",
        "noticia = 'Selic vai a 2,75% e supera expectativas; é a primeira alta em 6 anos.'\n",
        "\n",
        "selic = noticia[12:17]\n",
        "print(selic)\n",
        "\n",
        "ano = noticia[62:68]\n",
        "print(ano)"
      ],
      "metadata": {
        "colab": {
          "base_uri": "https://localhost:8080/"
        },
        "id": "EKn-SWTisZUt",
        "outputId": "714ea279-acb0-4bdb-b426-0f1327236e3e"
      },
      "execution_count": null,
      "outputs": [
        {
          "output_type": "stream",
          "name": "stdout",
          "text": [
            "2,75%\n",
            "6 anos\n"
          ]
        }
      ]
    },
    {
      "cell_type": "code",
      "source": [
        "a = False\n",
        "b = True\n",
        "\n",
        "x = not a & b\n",
        "print(x)"
      ],
      "metadata": {
        "colab": {
          "base_uri": "https://localhost:8080/"
        },
        "id": "M1f_UQp_tHCm",
        "outputId": "ab074640-d96b-417e-862b-1221523669c2"
      },
      "execution_count": null,
      "outputs": [
        {
          "output_type": "stream",
          "name": "stdout",
          "text": [
            "True\n"
          ]
        }
      ]
    }
  ]
}