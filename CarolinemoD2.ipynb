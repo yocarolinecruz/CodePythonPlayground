{
  "nbformat": 4,
  "nbformat_minor": 0,
  "metadata": {
    "colab": {
      "provenance": [],
      "authorship_tag": "ABX9TyOJzVQZ4U5nrFZD1cuWf1os",
      "include_colab_link": true
    },
    "kernelspec": {
      "name": "python3",
      "display_name": "Python 3"
    },
    "language_info": {
      "name": "python"
    }
  },
  "cells": [
    {
      "cell_type": "markdown",
      "metadata": {
        "id": "view-in-github",
        "colab_type": "text"
      },
      "source": [
        "<a href=\"https://colab.research.google.com/github/yocarolinecruz/CodePythonPlayground/blob/main/CarolinemoD2.ipynb\" target=\"_parent\"><img src=\"https://colab.research.google.com/assets/colab-badge.svg\" alt=\"Open In Colab\"/></a>"
      ]
    },
    {
      "cell_type": "markdown",
      "source": [
        "1 - Listas"
      ],
      "metadata": {
        "id": "yyH0ZzayxWYJ"
      }
    },
    {
      "cell_type": "code",
      "source": [
        "filmes = ['Um sonho de liberdade','O Poderoso Chefao','Batman - O cavaleiro das trevas','O Poderoso chefao II','12 homens w uma sentença','A lista de Schindler','O senhor dos Aneis: o retorno do rei','Pulp Fiction - Tempo de violencia','O Senhor dos Aneis: a sociedade do anel','Tres homens em conflito']"
      ],
      "metadata": {
        "id": "ArkfQaa15XuM"
      },
      "execution_count": null,
      "outputs": []
    },
    {
      "cell_type": "code",
      "source": [
        "print(filmes)"
      ],
      "metadata": {
        "colab": {
          "base_uri": "https://localhost:8080/"
        },
        "id": "tkCoEjcc8JmQ",
        "outputId": "971247b1-c7c0-4236-eb63-e988682afbe6"
      },
      "execution_count": null,
      "outputs": [
        {
          "output_type": "stream",
          "name": "stdout",
          "text": [
            "['Um sonho de liberdade', 'O Poderoso Chefao', 'Batman - O cavaleiro das trevas', 'O Poderoso chefao II', '12 homens w uma sentença', 'A lista de Schindler', 'O senhor dos Aneis: o retorno do rei', 'Pulp Fiction - Tempo de violencia', 'O Senhor dos Aneis: a sociedade do anel', 'Tres homens em conflito']\n"
          ]
        }
      ]
    },
    {
      "cell_type": "code",
      "source": [
        "filmes.insert(0,'O Poderoso Chefão')\n",
        "print(filmes)"
      ],
      "metadata": {
        "colab": {
          "base_uri": "https://localhost:8080/"
        },
        "id": "APx4Sb9z9AKW",
        "outputId": "9d5ee664-3a29-448d-f068-1dd577dbd989"
      },
      "execution_count": null,
      "outputs": [
        {
          "output_type": "stream",
          "name": "stdout",
          "text": [
            "['O Poderoso Chefão', 'Um sonho de liberdade', 'O Poderoso Chefao', 'Batman - O cavaleiro das trevas', 'O Poderoso chefao II', '12 homens w uma sentença', 'A lista de Schindler', 'O senhor dos Aneis: o retorno do rei', 'Pulp Fiction - Tempo de violencia', 'O Senhor dos Aneis: a sociedade do anel', 'Tres homens em conflito']\n"
          ]
        }
      ]
    },
    {
      "cell_type": "code",
      "source": [
        "second_filmes = filmes.pop(2)\n",
        "print(second_filmes)"
      ],
      "metadata": {
        "colab": {
          "base_uri": "https://localhost:8080/"
        },
        "id": "LFeTtold-PCh",
        "outputId": "5f043775-8488-422f-f1cc-46d3fc74c18f"
      },
      "execution_count": null,
      "outputs": [
        {
          "output_type": "stream",
          "name": "stdout",
          "text": [
            "O Poderoso Chefao\n"
          ]
        }
      ]
    },
    {
      "cell_type": "code",
      "source": [
        "print(filmes)"
      ],
      "metadata": {
        "colab": {
          "base_uri": "https://localhost:8080/"
        },
        "id": "ps0iKvhc_pFp",
        "outputId": "768372db-f0e5-4da8-e199-8120bbbc9587"
      },
      "execution_count": null,
      "outputs": [
        {
          "output_type": "stream",
          "name": "stdout",
          "text": [
            "['O Poderoso Chefão', 'Um sonho de liberdade', 'Batman - O cavaleiro das trevas', 'O Poderoso chefao II', '12 homens w uma sentença', 'A lista de Schindler', 'O senhor dos Aneis: o retorno do rei', 'Pulp Fiction - Tempo de violencia', 'O Senhor dos Aneis: a sociedade do anel', 'Tres homens em conflito']\n"
          ]
        }
      ]
    },
    {
      "cell_type": "markdown",
      "source": [
        "2 - Conjuntos"
      ],
      "metadata": {
        "id": "KKwFYvltxe4f"
      }
    },
    {
      "cell_type": "code",
      "source": [
        "filmes = {'Um sonho de liberdade','O Poderoso Chefao','Batman - O cavaleiro das trevas','O Poderoso chefao II','12 homens w uma sentença','A lista de Schindler','O senhor dos Aneis: o retorno do rei','Pulp Fiction - Tempo de violencia','O Senhor dos Aneis: a sociedade do anel','Tres homens em conflito','Pulp Fiction - Tempo de violencia','O Senhor dos Aneis: a sociedade do anel','Tres homens em conflito'}"
      ],
      "metadata": {
        "id": "U69KlDwExmbC"
      },
      "execution_count": null,
      "outputs": []
    },
    {
      "cell_type": "code",
      "source": [
        "print(set(filmes))\n",
        "print(type(set(filmes)))"
      ],
      "metadata": {
        "colab": {
          "base_uri": "https://localhost:8080/"
        },
        "id": "COKyNO0bOxEy",
        "outputId": "232a6233-5532-4d90-bbc6-8a289c8d7868"
      },
      "execution_count": null,
      "outputs": [
        {
          "output_type": "stream",
          "name": "stdout",
          "text": [
            "{'O Poderoso Chefao', 'Um sonho de liberdade', 'Pulp Fiction - Tempo de violencia', 'Tres homens em conflito', 'O senhor dos Aneis: o retorno do rei', 'Batman - O cavaleiro das trevas', 'A lista de Schindler', 'O Poderoso chefao II', 'O Senhor dos Aneis: a sociedade do anel', '12 homens w uma sentença'}\n",
            "<class 'set'>\n"
          ]
        }
      ]
    },
    {
      "cell_type": "code",
      "source": [
        "print(list(filmes))\n",
        "print(type(list(filmes)))"
      ],
      "metadata": {
        "colab": {
          "base_uri": "https://localhost:8080/"
        },
        "id": "k5tPGQiUPcCI",
        "outputId": "119d8686-83ad-461f-92a2-95aca9710002"
      },
      "execution_count": null,
      "outputs": [
        {
          "output_type": "stream",
          "name": "stdout",
          "text": [
            "['O Poderoso Chefao', 'Um sonho de liberdade', 'Pulp Fiction - Tempo de violencia', 'Tres homens em conflito', 'O senhor dos Aneis: o retorno do rei', 'Batman - O cavaleiro das trevas', 'A lista de Schindler', 'O Poderoso chefao II', 'O Senhor dos Aneis: a sociedade do anel', '12 homens w uma sentença']\n",
            "<class 'list'>\n"
          ]
        }
      ]
    },
    {
      "cell_type": "markdown",
      "source": [
        "3 - Dicionarios"
      ],
      "metadata": {
        "id": "bEAFwxUKEXNd"
      }
    },
    {
      "cell_type": "code",
      "source": [
        "Primeiro = {\n",
        "    'nome': 'Um sonho de liberdade',\n",
        "    'ano': 1994,\n",
        "    'sinopse': 'Dois homens presos se reúnem ao longo de vários anos, encontrando consolo e eventual redenção através de atos de decência comum.'}\n",
        "print(Primeiro)\n",
        "print(type(Primeiro))\n",
        "\n"
      ],
      "metadata": {
        "colab": {
          "base_uri": "https://localhost:8080/"
        },
        "id": "3IXeaKHSJ3J7",
        "outputId": "4defa2d9-bca4-42b5-a841-bdebcf5b8029"
      },
      "execution_count": null,
      "outputs": [
        {
          "output_type": "stream",
          "name": "stdout",
          "text": [
            "{'nome': 'Um sonho de liberdade', 'ano': 1994, 'sinopse': 'Dois homens presos se reúnem ao longo de vários anos, encontrando consolo e eventual redenção através de atos de decência comum.'}\n",
            "<class 'dict'>\n"
          ]
        }
      ]
    },
    {
      "cell_type": "code",
      "source": [
        "Segundo = {\n",
        "    'nome': 'O Poderoso Chefão',\n",
        "    'ano': 1972,\n",
        "    'sinopse': 'O patriarca idoso de uma dinastia do crime organizado transfere o controle de seu império clandestino para seu filho relutante.'}\n",
        "print(Segundo)\n",
        "print(type(Segundo))\n"
      ],
      "metadata": {
        "colab": {
          "base_uri": "https://localhost:8080/"
        },
        "id": "woyd3mThLkko",
        "outputId": "1f62e2f3-aa81-4f5d-8b73-05444b86b764"
      },
      "execution_count": null,
      "outputs": [
        {
          "output_type": "stream",
          "name": "stdout",
          "text": [
            "{'nome': 'O Poderoso Chefão', 'ano': 1972, 'sinopse': 'O patriarca idoso de uma dinastia do crime organizado transfere o controle de seu império clandestino para seu filho relutante.'}\n",
            "<class 'dict'>\n"
          ]
        }
      ]
    },
    {
      "cell_type": "code",
      "source": [
        "Terceiro = {\n",
        "    'nome': 'Batman - O cavaleiro das trevas',\n",
        "    'ano': 2008,\n",
        "    'sinopse': 'Agora com a ajuda do tenente Jim Gordon e do promotor público Harvey Dent, Batman tem tudo para banir o crime de Gotham City de uma vez por todas.'}\n",
        "print(Terceiro)\n",
        "print(type(Terceiro))"
      ],
      "metadata": {
        "colab": {
          "base_uri": "https://localhost:8080/"
        },
        "id": "QCIOei9GMDet",
        "outputId": "5a8e424b-bc88-4c50-a997-b6aa3412ca1f"
      },
      "execution_count": null,
      "outputs": [
        {
          "output_type": "stream",
          "name": "stdout",
          "text": [
            "{'nome': 'Batman - O cavaleiro das trevas', 'ano': 2008, 'sinopse': 'Agora com a ajuda do tenente Jim Gordon e do promotor público Harvey Dent, Batman tem tudo para banir o crime de Gotham City de uma vez por todas.'}\n",
            "<class 'dict'>\n"
          ]
        }
      ]
    },
    {
      "cell_type": "code",
      "source": [
        "Quarto = {\n",
        "    'nome': 'O Poderoso chefao II',\n",
        "    'ano': 1974,\n",
        "    'sinopse': 'Em 1950, Michael Corleone, agora à frente da família, tenta expandir o negócio do crime a Las Vegas, Los Angeles e Cuba.'}\n",
        "print(Quarto)\n",
        "print(type(Quarto))"
      ],
      "metadata": {
        "colab": {
          "base_uri": "https://localhost:8080/"
        },
        "id": "NofRUPbtM9Vo",
        "outputId": "4ded91c9-a051-4686-8a58-fd3c7e5ccf96"
      },
      "execution_count": null,
      "outputs": [
        {
          "output_type": "stream",
          "name": "stdout",
          "text": [
            "{'nome': 'O Poderoso chefao II', 'ano': 1974, 'sinopse': 'Em 1950, Michael Corleone, agora à frente da família, tenta expandir o negócio do crime a Las Vegas, Los Angeles e Cuba.'}\n",
            "<class 'dict'>\n"
          ]
        }
      ]
    },
    {
      "cell_type": "code",
      "source": [
        "Quinto = {\n",
        "    'nome': '12 homens e uma sentença',\n",
        "    'ano': 1957,\n",
        "    'sinopse': 'O julgamento de um assassinato em Nova Iorque é frustrado por um único membro, cujo ceticismo força o júri a considerar cuidadosamente as evidências antes de dar o veredito.'}\n",
        "print(Quinto)\n",
        "print(type(Quinto))"
      ],
      "metadata": {
        "colab": {
          "base_uri": "https://localhost:8080/"
        },
        "id": "B8MsiYEmNSw5",
        "outputId": "9a8c2a07-1afa-4b98-a330-f6e5cfb85020"
      },
      "execution_count": null,
      "outputs": [
        {
          "output_type": "stream",
          "name": "stdout",
          "text": [
            "{'nome': '12 homens e uma sentença', 'ano': 1957, 'sinopse': 'O julgamento de um assassinato em Nova Iorque é frustrado por um único membro, cujo ceticismo força o júri a considerar cuidadosamente as evidências antes de dar o veredito.'}\n",
            "<class 'dict'>\n"
          ]
        }
      ]
    },
    {
      "cell_type": "code",
      "source": [
        "Sexto = {\n",
        "    'nome': 'A lista de Schindler',\n",
        "    'ano': 1993,\n",
        "    'sinopse': 'Na Polônia ocupada pelos alemães durante a Segunda Guerra Mundial, o industrial Oskar Schindler começa a ser preocupar com seus trabalhadores judeus depois de testemunhar sua perseguição pelos nazistas.'}\n",
        "print(Sexto)\n",
        "print(type(Sexto))"
      ],
      "metadata": {
        "colab": {
          "base_uri": "https://localhost:8080/"
        },
        "id": "dMItOpEpNnlh",
        "outputId": "367f1e42-5983-4cbb-9f50-5045bd0da465"
      },
      "execution_count": null,
      "outputs": [
        {
          "output_type": "stream",
          "name": "stdout",
          "text": [
            "{'nome': 'A lista de Schindler', 'ano': 1993, 'sinopse': 'Na Polônia ocupada pelos alemães durante a Segunda Guerra Mundial, o industrial Oskar Schindler começa a ser preocupar com seus trabalhadores judeus depois de testemunhar sua perseguição pelos nazistas.'}\n",
            "<class 'dict'>\n"
          ]
        }
      ]
    },
    {
      "cell_type": "code",
      "source": [
        "Setimo = {\n",
        "    'nome': 'O senhor dos Aneis: o retorno do rei',\n",
        "    'ano': 2003,\n",
        "    'sinopse': 'Gandalf e Aragorn lideram o Mundo dos Homens contra o exército de Sauron para desviar o olhar de Frodo e Sam quando eles se aproximam á Montanha da Perdição com o Um Anel.'}\n",
        "print(Setimo)\n",
        "print(type(Setimo))"
      ],
      "metadata": {
        "colab": {
          "base_uri": "https://localhost:8080/"
        },
        "id": "YkhtJrmMPLab",
        "outputId": "59cf6dbb-ef53-4245-ab80-3f05e188315c"
      },
      "execution_count": null,
      "outputs": [
        {
          "output_type": "stream",
          "name": "stdout",
          "text": [
            "{'nome': 'O senhor dos Aneis: o retorno do rei', 'ano': 2003, 'sinopse': 'Gandalf e Aragorn lideram o Mundo dos Homens contra o exército de Sauron para desviar o olhar de Frodo e Sam quando eles se aproximam á Montanha da Perdição com o Um Anel.'}\n",
            "<class 'dict'>\n"
          ]
        }
      ]
    },
    {
      "cell_type": "code",
      "source": [
        "Oitavo = {\n",
        "    'nome': 'Pulp Fiction - Tempo de violencia',\n",
        "    'ano': 1994,\n",
        "    'sinopse': 'As vidas de dois assassinos da máfia, um boxeador, um gângster e sua esposa, e um par de bandidos se entrelaçam em quatro histórias de violência e redenção.'}\n",
        "print(Oitavo)\n",
        "print(type(Oitavo))"
      ],
      "metadata": {
        "colab": {
          "base_uri": "https://localhost:8080/"
        },
        "id": "7ll5j9NWPo9b",
        "outputId": "fb129947-e9e4-43e6-d3b0-1ed79efe4fc7"
      },
      "execution_count": null,
      "outputs": [
        {
          "output_type": "stream",
          "name": "stdout",
          "text": [
            "{'nome': 'Pulp Fiction - Tempo de violencia', 'ano': 1994, 'sinopse': 'As vidas de dois assassinos da máfia, um boxeador, um gângster e sua esposa, e um par de bandidos se entrelaçam em quatro histórias de violência e redenção.'}\n",
            "<class 'dict'>\n"
          ]
        }
      ]
    },
    {
      "cell_type": "code",
      "source": [
        "Nono = {\n",
        "    'nome': 'O Senhor dos Aneis: a sociedade do anel',\n",
        "    'ano': 2001,\n",
        "    'sinopse': 'Um manso hobbit do Condado e oito companheiros partem em uma jornada para destruir o poderoso Um Anel e salvar a Terra-média das Trevas.'}\n",
        "print(Nono)\n",
        "print(type(Nono))"
      ],
      "metadata": {
        "colab": {
          "base_uri": "https://localhost:8080/"
        },
        "id": "JK74MYjjQnqT",
        "outputId": "7242eac3-191c-4a31-9e29-9689b62b7c15"
      },
      "execution_count": null,
      "outputs": [
        {
          "output_type": "stream",
          "name": "stdout",
          "text": [
            "{'nome': 'O Senhor dos Aneis: a sociedade do anel', 'ano': 2001, 'sinopse': 'Um manso hobbit do Condado e oito companheiros partem em uma jornada para destruir o poderoso Um Anel e salvar a Terra-média das Trevas.'}\n",
            "<class 'dict'>\n"
          ]
        }
      ]
    },
    {
      "cell_type": "code",
      "source": [
        "Décimo = {\n",
        "    'nome': 'Tres homens em conflito',\n",
        "    'ano': 1966,\n",
        "    'sinopse': 'Um impostor se junta com dois homens para encontrar fortuna num remoto cemitério.'}\n",
        "print(Décimo)\n",
        "print(type(Décimo))"
      ],
      "metadata": {
        "colab": {
          "base_uri": "https://localhost:8080/"
        },
        "id": "5fyC0PS2RBMK",
        "outputId": "42e1e674-046a-47a6-ed9e-d81200b0d34b"
      },
      "execution_count": null,
      "outputs": [
        {
          "output_type": "stream",
          "name": "stdout",
          "text": [
            "{'nome': 'Tres homens em conflito', 'ano': 1966, 'sinopse': 'Um impostor se junta com dois homens para encontrar fortuna num remoto cemitério.'}\n",
            "<class 'dict'>\n"
          ]
        }
      ]
    }
  ]
}